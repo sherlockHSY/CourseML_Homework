{
 "cells": [
  {
   "cell_type": "markdown",
   "metadata": {},
   "source": [
    "# 练习2：Logistic Regression 逻辑回归"
   ]
  },
  {
   "cell_type": "code",
   "execution_count": 1,
   "metadata": {},
   "outputs": [],
   "source": [
    "%matplotlib inline\n",
    "import numpy as np\n",
    "import matplotlib.pyplot as plt\n",
    "import pandas as pd"
   ]
  },
  {
   "cell_type": "markdown",
   "metadata": {},
   "source": [
    "## 查看数据\n",
    "\n",
    "Suppose that you are the administrator of a university department and\n",
    "you want to determine each applicant’s chance of admission based on their\n",
    "results on two exams. You have historical data from previous applicants\n",
    "that you can use as a training set for logistic regression. For each training\n",
    "example, you have the applicant’s scores on two exams and the admissions\n",
    "decision.\n",
    "\n",
    "也就是数据集有三个变量，分别是 exam1和exam2的分数，以及目标 admissions "
   ]
  },
  {
   "cell_type": "code",
   "execution_count": 2,
   "metadata": {},
   "outputs": [
    {
     "data": {
      "text/html": [
       "<div>\n",
       "<style scoped>\n",
       "    .dataframe tbody tr th:only-of-type {\n",
       "        vertical-align: middle;\n",
       "    }\n",
       "\n",
       "    .dataframe tbody tr th {\n",
       "        vertical-align: top;\n",
       "    }\n",
       "\n",
       "    .dataframe thead th {\n",
       "        text-align: right;\n",
       "    }\n",
       "</style>\n",
       "<table border=\"1\" class=\"dataframe\">\n",
       "  <thead>\n",
       "    <tr style=\"text-align: right;\">\n",
       "      <th></th>\n",
       "      <th>exam1</th>\n",
       "      <th>exam2</th>\n",
       "      <th>admission</th>\n",
       "    </tr>\n",
       "  </thead>\n",
       "  <tbody>\n",
       "    <tr>\n",
       "      <th>0</th>\n",
       "      <td>34.623660</td>\n",
       "      <td>78.024693</td>\n",
       "      <td>0</td>\n",
       "    </tr>\n",
       "    <tr>\n",
       "      <th>1</th>\n",
       "      <td>30.286711</td>\n",
       "      <td>43.894998</td>\n",
       "      <td>0</td>\n",
       "    </tr>\n",
       "    <tr>\n",
       "      <th>2</th>\n",
       "      <td>35.847409</td>\n",
       "      <td>72.902198</td>\n",
       "      <td>0</td>\n",
       "    </tr>\n",
       "    <tr>\n",
       "      <th>3</th>\n",
       "      <td>60.182599</td>\n",
       "      <td>86.308552</td>\n",
       "      <td>1</td>\n",
       "    </tr>\n",
       "    <tr>\n",
       "      <th>4</th>\n",
       "      <td>79.032736</td>\n",
       "      <td>75.344376</td>\n",
       "      <td>1</td>\n",
       "    </tr>\n",
       "  </tbody>\n",
       "</table>\n",
       "</div>"
      ],
      "text/plain": [
       "       exam1      exam2  admission\n",
       "0  34.623660  78.024693          0\n",
       "1  30.286711  43.894998          0\n",
       "2  35.847409  72.902198          0\n",
       "3  60.182599  86.308552          1\n",
       "4  79.032736  75.344376          1"
      ]
     },
     "execution_count": 2,
     "metadata": {},
     "output_type": "execute_result"
    }
   ],
   "source": [
    "# 换用pandas来读数据\n",
    "data1 = pd.read_csv('./data/ex2data1.txt',names=['exam1','exam2','admission'])\n",
    "data1.head()"
   ]
  },
  {
   "cell_type": "markdown",
   "metadata": {},
   "source": [
    "### 绘图展示下"
   ]
  },
  {
   "cell_type": "code",
   "execution_count": 3,
   "metadata": {
    "scrolled": false
   },
   "outputs": [
    {
     "data": {
      "text/plain": [
       "<matplotlib.legend.Legend at 0x15653b7ff70>"
      ]
     },
     "execution_count": 3,
     "metadata": {},
     "output_type": "execute_result"
    },
    {
     "data": {
      "image/png": "[encoded data removed]",
      "text/plain": [
       "<Figure size 720x432 with 1 Axes>"
      ]
     },
     "metadata": {
      "needs_background": "light"
     },
     "output_type": "display_data"
    }
   ],
   "source": [
    "positive = data1.loc[data1['admission']==1] # 正样本\n",
    "negative = data1.loc[data1['admission']==0] # 负样本\n",
    "\n",
    "plt.figure(figsize=(10,6))\n",
    "plt.plot(positive.iloc[:,0], positive.iloc[:,1], 'k+', label='Admitted')\n",
    "plt.plot(negative.iloc[:,0], negative.iloc[:,1], 'yo', label='Not admitted')\n",
    "plt.xlabel('Exam 1 score')\n",
    "plt.ylabel('Exam 2 score')\n",
    "plt.legend()"
   ]
  },
  {
   "cell_type": "markdown",
   "metadata": {},
   "source": [
    "## 初始化变量 X ，y，参数矩阵 $\\theta$"
   ]
  },
  {
   "cell_type": "code",
   "execution_count": 4,
   "metadata": {},
   "outputs": [
    {
     "data": {
      "text/plain": [
       "((100, 3), (100, 1), (1, 3))"
      ]
     },
     "execution_count": 4,
     "metadata": {},
     "output_type": "execute_result"
    }
   ],
   "source": [
    "X = data1.iloc[:,:-1]\n",
    "y = data1.iloc[:,-1:] \n",
    "\n",
    "X.insert(0,'x0',1) # 添加 1 列\n",
    "\n",
    "# 转为矩阵形式\n",
    "X = np.matrix(X)\n",
    "y = np.matrix(y)\n",
    "\n",
    "# 初始化参数矩阵\n",
    "theta = np.matrix(np.zeros((1,3)))\n",
    "X.shape, y.shape ,theta.shape"
   ]
  },
  {
   "cell_type": "markdown",
   "metadata": {},
   "source": [
    "## Sigmod函数\n",
    "\\\\[g\\left( z \\right)=\\frac{1}{1+{{e}^{-z}}}\\\\]"
   ]
  },
  {
   "cell_type": "code",
   "execution_count": 5,
   "metadata": {},
   "outputs": [],
   "source": [
    "def sigmoid(z):\n",
    "    return 1 / (1 + np.exp(-z))"
   ]
  },
  {
   "cell_type": "code",
   "execution_count": 6,
   "metadata": {},
   "outputs": [
    {
     "data": {
      "image/png": "[encoded data removed]",
      "text/plain": [
       "<Figure size 432x288 with 1 Axes>"
      ]
     },
     "metadata": {
      "needs_background": "light"
     },
     "output_type": "display_data"
    }
   ],
   "source": [
    "myx = np.arange(-10,10,.1)\n",
    "plt.plot(myx,sigmoid(myx))\n",
    "plt.title(\"Sigmoid Function\")\n",
    "plt.grid(True)"
   ]
  },
  {
   "cell_type": "markdown",
   "metadata": {},
   "source": [
    "## 代价函数\n",
    "\n",
    "$$J(\\theta)=-\\frac{1}{m}\\sum\\limits_{i=1}^m [y^{(i)}log(h_{\\theta}(x))+(1-y^{(i)})log(1-h_{\\theta}(x))]$$"
   ]
  },
  {
   "cell_type": "code",
   "execution_count": 7,
   "metadata": {},
   "outputs": [],
   "source": [
    "def computeCost(theta, X, y):\n",
    "    theta = np.matrix(theta)\n",
    "    X = np.matrix(X)\n",
    "    y = np.matrix(y)\n",
    "    \n",
    "    cost = np.multiply(-y, np.log(sigmoid(np.dot(X , theta.T)))) - np.multiply((1-y), np.log(1-(sigmoid(np.dot(X , theta.T)))))\n",
    "    return np.sum(cost)/((len(X)))"
   ]
  },
  {
   "cell_type": "code",
   "execution_count": 8,
   "metadata": {},
   "outputs": [
    {
     "name": "stdout",
     "output_type": "stream",
     "text": [
      "初始代价： 0.6931471805599453\n"
     ]
    }
   ],
   "source": [
    "print('初始代价：', computeCost(theta,X, y) ) "
   ]
  },
  {
   "cell_type": "markdown",
   "metadata": {},
   "source": [
    "## 梯度下降\n",
    "\n",
    "$$ \\theta_j = \\theta_j - \\alpha\\dfrac{\\partial}{\\partial\\theta_j}J(\\theta_j)  $$\n",
    "$$\\dfrac{\\partial}{\\partial\\theta}J(\\theta)=\\frac{1}{m}\\sum\\limits_{i=1}^m (h_{\\theta}(x^{(i)})-y^{(i)})x^{(i)} $$"
   ]
  },
  {
   "cell_type": "code",
   "execution_count": 9,
   "metadata": {},
   "outputs": [],
   "source": [
    "# 用于计算一次迭代的梯度\n",
    "def computeGradient(theta,X, y):\n",
    "    theta = np.matrix(theta)\n",
    "    X = np.matrix(X)\n",
    "    y = np.matrix(y)\n",
    "    \n",
    "    m = len(X)\n",
    "    n = theta.shape[1]  \n",
    "    temp= np.zeros(X.shape[1])\n",
    "    \n",
    "    error = sigmoid(np.dot(X,theta.T)) - y\n",
    "    for j in range(n):\n",
    "        temp[j] =  ((1/m) * np.sum(np.multiply(error, X[:,j])))    \n",
    "        \n",
    "    return temp"
   ]
  },
  {
   "cell_type": "code",
   "execution_count": 10,
   "metadata": {},
   "outputs": [
    {
     "data": {
      "text/plain": [
       "array([ -0.1       , -12.00921659, -11.26284221])"
      ]
     },
     "execution_count": 10,
     "metadata": {},
     "output_type": "execute_result"
    }
   ],
   "source": [
    "computeGradient(theta, X, y)"
   ]
  },
  {
   "cell_type": "markdown",
   "metadata": {},
   "source": [
    "## 此处要求使用fminuc函数来最小化代价，python中与该函数相近的是 fmin_tnc"
   ]
  },
  {
   "cell_type": "code",
   "execution_count": 11,
   "metadata": {},
   "outputs": [
    {
     "data": {
      "text/plain": [
       "(array([-25.16131854,   0.20623159,   0.20147149]), 36, 0)"
      ]
     },
     "execution_count": 11,
     "metadata": {},
     "output_type": "execute_result"
    }
   ],
   "source": [
    "import scipy.optimize as opt\n",
    "result = opt.fmin_tnc(func=computeCost, x0=theta, fprime=computeGradient, args=(X, y))\n",
    "result"
   ]
  },
  {
   "cell_type": "markdown",
   "metadata": {},
   "source": [
    "### 这是另一位大佬kaleko的解法，使用的是fmin函数"
   ]
  },
  {
   "cell_type": "code",
   "execution_count": 12,
   "metadata": {},
   "outputs": [
    {
     "name": "stdout",
     "output_type": "stream",
     "text": [
      "Optimization terminated successfully.\n",
      "         Current function value: 0.203498\n",
      "         Iterations: 157\n",
      "         Function evaluations: 287\n"
     ]
    }
   ],
   "source": [
    "from scipy import optimize\n",
    "\n",
    "def optimizeTheta(mytheta,myX,myy,mylambda=0.):\n",
    "    result = optimize.fmin(computeCost, x0=mytheta, args=(myX, myy), maxiter=400, full_output=True)\n",
    "    return result[0], result[1]\n",
    "\n",
    "theta_new, mincost = optimizeTheta(theta,X,y)"
   ]
  },
  {
   "cell_type": "code",
   "execution_count": 13,
   "metadata": {},
   "outputs": [
    {
     "data": {
      "text/plain": [
       "(array([-25.16130062,   0.20623142,   0.20147143]), 0.2034977015902152)"
      ]
     },
     "execution_count": 13,
     "metadata": {},
     "output_type": "execute_result"
    }
   ],
   "source": [
    "theta_new, mincost"
   ]
  },
  {
   "cell_type": "markdown",
   "metadata": {},
   "source": [
    "## 绘制决策边界 Decision Boundary\n",
    "\n",
    "我们知道假设函数（预测函数）$h_{\\theta}(z)=g(\\theta^{T}x)=\\dfrac{1}{1+e^{-\\theta^{T}x}}$，当我们得到训练好的参数后，\n",
    "\n",
    "可知 $h_{\\theta}(z)=g(\\theta_0+\\theta_1x_1+\\theta_2x_2)$\n",
    "\n",
    "由于sigmoid函数： 当$z>0,g(z)>0.5$，当$z<0,g(z)<0.5$，所以决策边界就是当$h_{\\theta}(z)=g(\\theta_0+\\theta_1x_1+\\theta_2x_2)=0.5$时才发生\n",
    "\n",
    "令 $z=\\theta_0+\\theta_1x_1+\\theta_2x_2=0$，则 $x_2=(-\\frac{1}{\\theta_2})(\\theta_0+\\theta_1x_1)$"
   ]
  },
  {
   "cell_type": "code",
   "execution_count": 14,
   "metadata": {},
   "outputs": [
    {
     "data": {
      "text/plain": [
       "matrix([[0.5]])"
      ]
     },
     "execution_count": 14,
     "metadata": {},
     "output_type": "execute_result"
    }
   ],
   "source": [
    "# 预测函数 \n",
    "# 假设现在有一学生 exam1 考了45分，exam2考了85分，预测其通过率\n",
    "X_test = np.array([1.,45.,85.])\n",
    "sigmoid(np.dot(X_test , theta.T))"
   ]
  },
  {
   "cell_type": "code",
   "execution_count": 15,
   "metadata": {},
   "outputs": [
    {
     "data": {
      "text/plain": [
       "<matplotlib.legend.Legend at 0x15654c10430>"
      ]
     },
     "execution_count": 15,
     "metadata": {},
     "output_type": "execute_result"
    },
    {
     "data": {
      "image/png": "[encoded data removed]",
      "text/plain": [
       "<Figure size 720x432 with 1 Axes>"
      ]
     },
     "metadata": {
      "needs_background": "light"
     },
     "output_type": "display_data"
    }
   ],
   "source": [
    "# 先绘制原先的散点图\n",
    "positive = data1.loc[data1['admission']==1] # 正样本\n",
    "negative = data1.loc[data1['admission']==0] # 负样本\n",
    "\n",
    "plt.figure(figsize=(10,6))\n",
    "plt.plot(positive.iloc[:,0], positive.iloc[:,1], 'k+', label='Admitted')\n",
    "plt.plot(negative.iloc[:,0], negative.iloc[:,1], 'yo', label='Not admitted')\n",
    "\n",
    "# 绘制决策边界\n",
    "boundary_x = X[:,1]\n",
    "boundary_y = (-1./theta_new[2]) * (X[:,1] * theta_new[1] + theta_new[0])\n",
    "\n",
    "plt.plot(boundary_x,boundary_y, 'b', label='decision boundary')\n",
    "plt.xlabel('Exam 1 score')\n",
    "plt.ylabel('Exam 2 score')\n",
    "\n",
    "plt.legend()"
   ]
  },
  {
   "cell_type": "markdown",
   "metadata": {},
   "source": [
    "# 加入正则化的逻辑回归"
   ]
  },
  {
   "cell_type": "markdown",
   "metadata": {},
   "source": [
    "## 查看数据\n",
    "\n",
    "In this part of the exercise, you will implement regularized logistic regression to predict whether microchips from a fabrication plant passes quality assurance (QA). During QA, each microchip goes through various tests to ensure it is functioning correctly.\n",
    "\n",
    "Suppose you are the product manager of the factory and you have the test results for some microchips on two different tests. From these two tests,you would like to determine whether the microchips should be accepted or rejected. To help you make the decision, you have a dataset of test results on past microchips, from which you can build a logistic regression model\n",
    "\n",
    "数据集有三个变量，前两个是微芯片的两个不同的历史测试得分，后一个是目标值，是历史测试结果（通过或不通过QA）"
   ]
  },
  {
   "cell_type": "code",
   "execution_count": 16,
   "metadata": {},
   "outputs": [
    {
     "data": {
      "text/html": [
       "<div>\n",
       "<style scoped>\n",
       "    .dataframe tbody tr th:only-of-type {\n",
       "        vertical-align: middle;\n",
       "    }\n",
       "\n",
       "    .dataframe tbody tr th {\n",
       "        vertical-align: top;\n",
       "    }\n",
       "\n",
       "    .dataframe thead th {\n",
       "        text-align: right;\n",
       "    }\n",
       "</style>\n",
       "<table border=\"1\" class=\"dataframe\">\n",
       "  <thead>\n",
       "    <tr style=\"text-align: right;\">\n",
       "      <th></th>\n",
       "      <th>test1</th>\n",
       "      <th>test2</th>\n",
       "      <th>accepted</th>\n",
       "    </tr>\n",
       "  </thead>\n",
       "  <tbody>\n",
       "    <tr>\n",
       "      <th>0</th>\n",
       "      <td>0.051267</td>\n",
       "      <td>0.69956</td>\n",
       "      <td>1</td>\n",
       "    </tr>\n",
       "    <tr>\n",
       "      <th>1</th>\n",
       "      <td>-0.092742</td>\n",
       "      <td>0.68494</td>\n",
       "      <td>1</td>\n",
       "    </tr>\n",
       "    <tr>\n",
       "      <th>2</th>\n",
       "      <td>-0.213710</td>\n",
       "      <td>0.69225</td>\n",
       "      <td>1</td>\n",
       "    </tr>\n",
       "    <tr>\n",
       "      <th>3</th>\n",
       "      <td>-0.375000</td>\n",
       "      <td>0.50219</td>\n",
       "      <td>1</td>\n",
       "    </tr>\n",
       "    <tr>\n",
       "      <th>4</th>\n",
       "      <td>-0.513250</td>\n",
       "      <td>0.46564</td>\n",
       "      <td>1</td>\n",
       "    </tr>\n",
       "  </tbody>\n",
       "</table>\n",
       "</div>"
      ],
      "text/plain": [
       "      test1    test2  accepted\n",
       "0  0.051267  0.69956         1\n",
       "1 -0.092742  0.68494         1\n",
       "2 -0.213710  0.69225         1\n",
       "3 -0.375000  0.50219         1\n",
       "4 -0.513250  0.46564         1"
      ]
     },
     "execution_count": 16,
     "metadata": {},
     "output_type": "execute_result"
    }
   ],
   "source": [
    "data2 = pd.read_csv('./data/ex2data2.txt',names=['test1','test2','accepted'])\n",
    "data2.head()"
   ]
  },
  {
   "cell_type": "code",
   "execution_count": 17,
   "metadata": {},
   "outputs": [
    {
     "data": {
      "text/plain": [
       "<matplotlib.legend.Legend at 0x156544553a0>"
      ]
     },
     "execution_count": 17,
     "metadata": {},
     "output_type": "execute_result"
    },
    {
     "data": {
      "image/png": "[encoded data removed]",
      "text/plain": [
       "<Figure size 720x432 with 1 Axes>"
      ]
     },
     "metadata": {
      "needs_background": "light"
     },
     "output_type": "display_data"
    }
   ],
   "source": [
    "positive = data2.loc[data2['accepted']==1] # 正样本\n",
    "negative = data2.loc[data2['accepted']==0] # 负样本\n",
    "\n",
    "plt.figure(figsize=(10,6))\n",
    "plt.plot(positive.iloc[:,0], positive.iloc[:,1], 'k+', label='Accepted')\n",
    "plt.plot(negative.iloc[:,0], negative.iloc[:,1], 'yo', label='Not Accepted')\n",
    "plt.xlabel('Test 1 score')\n",
    "plt.ylabel('Test 2 score')\n",
    "plt.legend()"
   ]
  },
  {
   "cell_type": "markdown",
   "metadata": {},
   "source": [
    "## 通过Feature mapping增加一些特征\n",
    "\n",
    "$mapFeature(x) = \\begin{bmatrix}1\\\\ x_1 \\\\x_2\\\\x_1^2\\\\x_1x_2\\\\x_2^2\\\\x_1^3 \\\\...\\\\x_1x_2^5\\\\x_2^6\\end{bmatrix}$ \n",
    "\n",
    "最后共28维特征"
   ]
  },
  {
   "cell_type": "code",
   "execution_count": 18,
   "metadata": {},
   "outputs": [
    {
     "data": {
      "text/html": [
       "<div>\n",
       "<style scoped>\n",
       "    .dataframe tbody tr th:only-of-type {\n",
       "        vertical-align: middle;\n",
       "    }\n",
       "\n",
       "    .dataframe tbody tr th {\n",
       "        vertical-align: top;\n",
       "    }\n",
       "\n",
       "    .dataframe thead th {\n",
       "        text-align: right;\n",
       "    }\n",
       "</style>\n",
       "<table border=\"1\" class=\"dataframe\">\n",
       "  <thead>\n",
       "    <tr style=\"text-align: right;\">\n",
       "      <th></th>\n",
       "      <th>accepted</th>\n",
       "      <th>x0</th>\n",
       "      <th>x_11</th>\n",
       "      <th>x_21</th>\n",
       "      <th>x_12</th>\n",
       "      <th>x_11x_21</th>\n",
       "      <th>x_22</th>\n",
       "      <th>x_13</th>\n",
       "      <th>x_12x_21</th>\n",
       "      <th>x_11x_22</th>\n",
       "      <th>...</th>\n",
       "      <th>x_12x_23</th>\n",
       "      <th>x_11x_24</th>\n",
       "      <th>x_25</th>\n",
       "      <th>x_16</th>\n",
       "      <th>x_15x_21</th>\n",
       "      <th>x_14x_22</th>\n",
       "      <th>x_13x_23</th>\n",
       "      <th>x_12x_24</th>\n",
       "      <th>x_11x_25</th>\n",
       "      <th>x_26</th>\n",
       "    </tr>\n",
       "  </thead>\n",
       "  <tbody>\n",
       "    <tr>\n",
       "      <th>0</th>\n",
       "      <td>1</td>\n",
       "      <td>1</td>\n",
       "      <td>0.051267</td>\n",
       "      <td>0.69956</td>\n",
       "      <td>0.002628</td>\n",
       "      <td>0.035864</td>\n",
       "      <td>0.489384</td>\n",
       "      <td>0.000135</td>\n",
       "      <td>0.001839</td>\n",
       "      <td>0.025089</td>\n",
       "      <td>...</td>\n",
       "      <td>0.000900</td>\n",
       "      <td>0.012278</td>\n",
       "      <td>0.167542</td>\n",
       "      <td>1.815630e-08</td>\n",
       "      <td>2.477505e-07</td>\n",
       "      <td>0.000003</td>\n",
       "      <td>0.000046</td>\n",
       "      <td>0.000629</td>\n",
       "      <td>0.008589</td>\n",
       "      <td>0.117206</td>\n",
       "    </tr>\n",
       "    <tr>\n",
       "      <th>1</th>\n",
       "      <td>1</td>\n",
       "      <td>1</td>\n",
       "      <td>-0.092742</td>\n",
       "      <td>0.68494</td>\n",
       "      <td>0.008601</td>\n",
       "      <td>-0.063523</td>\n",
       "      <td>0.469143</td>\n",
       "      <td>-0.000798</td>\n",
       "      <td>0.005891</td>\n",
       "      <td>-0.043509</td>\n",
       "      <td>...</td>\n",
       "      <td>0.002764</td>\n",
       "      <td>-0.020412</td>\n",
       "      <td>0.150752</td>\n",
       "      <td>6.362953e-07</td>\n",
       "      <td>-4.699318e-06</td>\n",
       "      <td>0.000035</td>\n",
       "      <td>-0.000256</td>\n",
       "      <td>0.001893</td>\n",
       "      <td>-0.013981</td>\n",
       "      <td>0.103256</td>\n",
       "    </tr>\n",
       "    <tr>\n",
       "      <th>2</th>\n",
       "      <td>1</td>\n",
       "      <td>1</td>\n",
       "      <td>-0.213710</td>\n",
       "      <td>0.69225</td>\n",
       "      <td>0.045672</td>\n",
       "      <td>-0.147941</td>\n",
       "      <td>0.479210</td>\n",
       "      <td>-0.009761</td>\n",
       "      <td>0.031616</td>\n",
       "      <td>-0.102412</td>\n",
       "      <td>...</td>\n",
       "      <td>0.015151</td>\n",
       "      <td>-0.049077</td>\n",
       "      <td>0.158970</td>\n",
       "      <td>9.526844e-05</td>\n",
       "      <td>-3.085938e-04</td>\n",
       "      <td>0.001000</td>\n",
       "      <td>-0.003238</td>\n",
       "      <td>0.010488</td>\n",
       "      <td>-0.033973</td>\n",
       "      <td>0.110047</td>\n",
       "    </tr>\n",
       "    <tr>\n",
       "      <th>3</th>\n",
       "      <td>1</td>\n",
       "      <td>1</td>\n",
       "      <td>-0.375000</td>\n",
       "      <td>0.50219</td>\n",
       "      <td>0.140625</td>\n",
       "      <td>-0.188321</td>\n",
       "      <td>0.252195</td>\n",
       "      <td>-0.052734</td>\n",
       "      <td>0.070620</td>\n",
       "      <td>-0.094573</td>\n",
       "      <td>...</td>\n",
       "      <td>0.017810</td>\n",
       "      <td>-0.023851</td>\n",
       "      <td>0.031940</td>\n",
       "      <td>2.780914e-03</td>\n",
       "      <td>-3.724126e-03</td>\n",
       "      <td>0.004987</td>\n",
       "      <td>-0.006679</td>\n",
       "      <td>0.008944</td>\n",
       "      <td>-0.011978</td>\n",
       "      <td>0.016040</td>\n",
       "    </tr>\n",
       "    <tr>\n",
       "      <th>4</th>\n",
       "      <td>1</td>\n",
       "      <td>1</td>\n",
       "      <td>-0.513250</td>\n",
       "      <td>0.46564</td>\n",
       "      <td>0.263426</td>\n",
       "      <td>-0.238990</td>\n",
       "      <td>0.216821</td>\n",
       "      <td>-0.135203</td>\n",
       "      <td>0.122661</td>\n",
       "      <td>-0.111283</td>\n",
       "      <td>...</td>\n",
       "      <td>0.026596</td>\n",
       "      <td>-0.024128</td>\n",
       "      <td>0.021890</td>\n",
       "      <td>1.827990e-02</td>\n",
       "      <td>-1.658422e-02</td>\n",
       "      <td>0.015046</td>\n",
       "      <td>-0.013650</td>\n",
       "      <td>0.012384</td>\n",
       "      <td>-0.011235</td>\n",
       "      <td>0.010193</td>\n",
       "    </tr>\n",
       "  </tbody>\n",
       "</table>\n",
       "<p>5 rows × 29 columns</p>\n",
       "</div>"
      ],
      "text/plain": [
       "   accepted  x0      x_11     x_21      x_12  x_11x_21      x_22      x_13  \\\n",
       "0         1   1  0.051267  0.69956  0.002628  0.035864  0.489384  0.000135   \n",
       "1         1   1 -0.092742  0.68494  0.008601 -0.063523  0.469143 -0.000798   \n",
       "2         1   1 -0.213710  0.69225  0.045672 -0.147941  0.479210 -0.009761   \n",
       "3         1   1 -0.375000  0.50219  0.140625 -0.188321  0.252195 -0.052734   \n",
       "4         1   1 -0.513250  0.46564  0.263426 -0.238990  0.216821 -0.135203   \n",
       "\n",
       "   x_12x_21  x_11x_22  ...  x_12x_23  x_11x_24      x_25          x_16  \\\n",
       "0  0.001839  0.025089  ...  0.000900  0.012278  0.167542  1.815630e-08   \n",
       "1  0.005891 -0.043509  ...  0.002764 -0.020412  0.150752  6.362953e-07   \n",
       "2  0.031616 -0.102412  ...  0.015151 -0.049077  0.158970  9.526844e-05   \n",
       "3  0.070620 -0.094573  ...  0.017810 -0.023851  0.031940  2.780914e-03   \n",
       "4  0.122661 -0.111283  ...  0.026596 -0.024128  0.021890  1.827990e-02   \n",
       "\n",
       "       x_15x_21  x_14x_22  x_13x_23  x_12x_24  x_11x_25      x_26  \n",
       "0  2.477505e-07  0.000003  0.000046  0.000629  0.008589  0.117206  \n",
       "1 -4.699318e-06  0.000035 -0.000256  0.001893 -0.013981  0.103256  \n",
       "2 -3.085938e-04  0.001000 -0.003238  0.010488 -0.033973  0.110047  \n",
       "3 -3.724126e-03  0.004987 -0.006679  0.008944 -0.011978  0.016040  \n",
       "4 -1.658422e-02  0.015046 -0.013650  0.012384 -0.011235  0.010193  \n",
       "\n",
       "[5 rows x 29 columns]"
      ]
     },
     "execution_count": 18,
     "metadata": {},
     "output_type": "execute_result"
    }
   ],
   "source": [
    "x1 = data2['test1']\n",
    "x2 = data2['test2']\n",
    "\n",
    "data2.insert(3, 'x0', 1)\n",
    "\n",
    "degree = 6\n",
    "for i in range(1, degree+1):\n",
    "    for j in range(0, i+1):\n",
    "        colsname = ('' if (i-j)==0  else ('x_1'+str(i-j))) + ('' if (j)==0 else ('x_2'+str(j)))\n",
    "        data2[colsname] = np.power(x1, i-j) * np.power(x2, j)\n",
    "\n",
    "data2.drop('test1', axis=1, inplace=True)\n",
    "data2.drop('test2', axis=1, inplace=True)\n",
    "\n",
    "data2.head()"
   ]
  },
  {
   "cell_type": "markdown",
   "metadata": {},
   "source": [
    "## 接下来同样初始化变量 X2 ，y2，参数矩阵 $\\theta_2$"
   ]
  },
  {
   "cell_type": "code",
   "execution_count": 19,
   "metadata": {},
   "outputs": [
    {
     "data": {
      "text/plain": [
       "((118, 28), (118, 1), (1, 28))"
      ]
     },
     "execution_count": 19,
     "metadata": {},
     "output_type": "execute_result"
    }
   ],
   "source": [
    "X_2 = data2.iloc[:,1:]\n",
    "y_2 = data2.iloc[:,:1]  \n",
    "\n",
    "# 转为矩阵形式\n",
    "X_2 = np.matrix(X_2)\n",
    "y_2 = np.matrix(y_2)\n",
    "\n",
    "# 初始化参数矩阵\n",
    "theta_2 = np.matrix(np.zeros((1,X_2.shape[1])))\n",
    "X_2.shape, y_2.shape ,theta_2.shape"
   ]
  },
  {
   "cell_type": "markdown",
   "metadata": {},
   "source": [
    "## 正则化代价函数\n",
    "\n",
    "$$J(\\theta)=\\frac{1}{m}\\sum\\limits_{i=1}^m [-y^{(i)}log(h_{\\theta}(x))-(1-y^{(i)})log(1-h_{\\theta}(x))]+\\frac{\\lambda}{2m}\\sum\\limits_{j=1}^{n}\\theta_j^2$$\n",
    "\n",
    "注意：$\\theta_0$不参与正则化"
   ]
  },
  {
   "cell_type": "code",
   "execution_count": 20,
   "metadata": {},
   "outputs": [],
   "source": [
    "def computeRegCost(theta, X, y, mylambda):\n",
    "    theta = np.matrix(theta)\n",
    "    X = np.matrix(X)\n",
    "    y = np.matrix(y)\n",
    "    m = len(X)\n",
    "    cost = np.multiply(-y, np.log(sigmoid(np.dot(X , theta.T)))) - np.multiply((1-y), np.log(1-(sigmoid(np.dot(X , theta.T)))))\n",
    "    reg = (mylambda/(2*m)) * (np.sum(np.power(theta[:,1:theta.shape[1]], 2)))\n",
    "    return (np.sum(cost)/((len(X))) + reg)"
   ]
  },
  {
   "cell_type": "code",
   "execution_count": 21,
   "metadata": {},
   "outputs": [
    {
     "data": {
      "text/plain": [
       "0.6931471805599454"
      ]
     },
     "execution_count": 21,
     "metadata": {},
     "output_type": "execute_result"
    }
   ],
   "source": [
    "mylambda = 1.\n",
    "\n",
    "computeRegCost(theta_2, X_2, y_2, mylambda)"
   ]
  },
  {
   "cell_type": "markdown",
   "metadata": {},
   "source": [
    "## 梯度下降\n",
    "\n",
    "$ Repeat\\ until\\ convergence\\{\\\\ \\theta_0:=\\theta_0-\\alpha\\frac{1}{m}\\sum\\limits_{i=1}^m [(h_{\\theta}(x^{(i)})-y^{(i)})x_0^{(i)}] \\\\ \\begin{aligned} \\theta_j & :=\\theta_j-\\alpha\\frac{1}{m}\\sum\\limits_{i=1}^m [(h_{\\theta}(x^{(i)})-y^{(i)})x^{(i)} + \\frac{\\lambda}{m}\\theta_j] \\\\& for \\ j=1,2,..,n\\\\\\ \\end{aligned} $\n",
    "\n"
   ]
  },
  {
   "cell_type": "code",
   "execution_count": 22,
   "metadata": {},
   "outputs": [],
   "source": [
    "# 计算迭代一次的梯度\n",
    "def computeRegGradient(theta, X, y, mylambda):\n",
    "    theta = np.matrix(theta)\n",
    "    X = np.matrix(X)\n",
    "    y = np.matrix(y)\n",
    "    m = len(X)\n",
    "    n = theta.shape[1]  \n",
    "    temp= np.zeros(X.shape[1])\n",
    "    cost = sigmoid(np.dot(X , theta.T)) - y \n",
    "    for j in range(n):\n",
    "        if (j == 0):\n",
    "            temp[j] =  (1/m) * np.sum(np.multiply(cost, X[:,j])) \n",
    "        else:\n",
    "            temp[j] =  (1/m) * np.sum(np.multiply(cost, X[:,j]) + (mylambda/m) * theta[:,j]) \n",
    "    return temp"
   ]
  },
  {
   "cell_type": "code",
   "execution_count": 23,
   "metadata": {},
   "outputs": [
    {
     "data": {
      "text/plain": [
       "array([8.47457627e-03, 1.87880932e-02, 7.77711864e-05, 5.03446395e-02,\n",
       "       1.15013308e-02, 3.76648474e-02, 1.83559872e-02, 7.32393391e-03,\n",
       "       8.19244468e-03, 2.34764889e-02, 3.93486234e-02, 2.23923907e-03,\n",
       "       1.28600503e-02, 3.09593720e-03, 3.93028171e-02, 1.99707467e-02,\n",
       "       4.32983232e-03, 3.38643902e-03, 5.83822078e-03, 4.47629067e-03,\n",
       "       3.10079849e-02, 3.10312442e-02, 1.09740238e-03, 6.31570797e-03,\n",
       "       4.08503006e-04, 7.26504316e-03, 1.37646175e-03, 3.87936363e-02])"
      ]
     },
     "execution_count": 23,
     "metadata": {},
     "output_type": "execute_result"
    }
   ],
   "source": [
    "computeRegGradient(theta_2, X_2, y_2, mylambda)"
   ]
  },
  {
   "cell_type": "markdown",
   "metadata": {},
   "source": [
    "## 最小化参数"
   ]
  },
  {
   "cell_type": "markdown",
   "metadata": {},
   "source": [
    "### 这里参考的是kaleko大佬的代码，使用了minimize函数"
   ]
  },
  {
   "cell_type": "code",
   "execution_count": 24,
   "metadata": {
    "scrolled": true
   },
   "outputs": [
    {
     "data": {
      "text/plain": [
       "(array([[ 1.27352051,  0.62398731,  1.17770911, -2.01896026, -0.90970548,\n",
       "         -1.42933244,  0.12855214, -0.37114575, -0.36355318, -0.16833745,\n",
       "         -1.46150782, -0.05429889, -0.62107373, -0.27327167, -1.19437685,\n",
       "         -0.23868723, -0.21008287, -0.04925329, -0.27848643, -0.29823308,\n",
       "         -0.45449605, -1.04614951,  0.02489379, -0.29556269,  0.01337172,\n",
       "         -0.3295924 , -0.14390978, -0.92858262]]),\n",
       " 0.46241759002875865)"
      ]
     },
     "execution_count": 24,
     "metadata": {},
     "output_type": "execute_result"
    }
   ],
   "source": [
    "def optimizeRegularizedTheta(mytheta,myX,myy,mylambda):\n",
    "    result = optimize.minimize(computeRegCost, mytheta, args=(myX, myy, mylambda),  method='Newton-CG', jac=computeRegGradient )\n",
    "    return np.array([result.x]), result.fun\n",
    "    \n",
    "theta2_new, mincost = optimizeRegularizedTheta(theta_2,X_2,y_2,mylambda)\n",
    "theta2_new, mincost"
   ]
  },
  {
   "cell_type": "markdown",
   "metadata": {},
   "source": [
    "### 这是另一种优化方式"
   ]
  },
  {
   "cell_type": "code",
   "execution_count": 26,
   "metadata": {},
   "outputs": [
    {
     "data": {
      "text/plain": [
       "0.46224873173537406"
      ]
     },
     "execution_count": 26,
     "metadata": {},
     "output_type": "execute_result"
    }
   ],
   "source": [
    "result2 = opt.fmin_tnc(func=computeRegCost, x0=theta_2, fprime=computeRegGradient, args=(X_2, y_2, mylambda))\n",
    "\n",
    "computeRegCost(np.matrix(result2[0]), X_2, y_2, mylambda)"
   ]
  },
  {
   "cell_type": "markdown",
   "metadata": {},
   "source": [
    "## 绘制决策边界\n",
    "\n",
    "我们知道决策边界就是当 $h_{\\theta}(z)=g(\\theta^{T}x)=0.5$ 也就是 $z=\\theta^{T}x=0$ 时才发生，所以目的就是找出使等式成立的 $x_1，x_2$"
   ]
  },
  {
   "cell_type": "markdown",
   "metadata": {},
   "source": [
    "### 这里使用的也是kaleko大佬的代码"
   ]
  },
  {
   "cell_type": "code",
   "execution_count": 27,
   "metadata": {},
   "outputs": [],
   "source": [
    "def mapFeature( x1col, x2col ):\n",
    "    \"\"\" \n",
    "    Function that takes in a column of n- x1's, a column of n- x2s, and builds\n",
    "    a n- x 28-dim matrix of featuers as described in the homework assignment\n",
    "    \"\"\"\n",
    "    degrees = 6\n",
    "    out = np.ones( (x1col.shape[0], 1) )\n",
    "\n",
    "    for i in range(1, degrees+1):\n",
    "        for j in range(0, i+1):\n",
    "            term1 = x1col ** (i-j)\n",
    "            term2 = x2col ** (j)\n",
    "            term  = (term1 * term2).reshape( term1.shape[0], 1 ) \n",
    "            out   = np.hstack(( out, term ))\n",
    "    return out"
   ]
  },
  {
   "cell_type": "code",
   "execution_count": 36,
   "metadata": {},
   "outputs": [],
   "source": [
    "def darw_data_and_boundary(x_plt, y_plt, theta, mylambda):\n",
    "    z_plt = np.zeros((len(x_plt),len(y_plt)))\n",
    "    for i in range(len(x_plt)):\n",
    "        for j in range(len(y_plt)):\n",
    "            myfeaturesij = mapFeature(np.array([x_plt[i]]),np.array([y_plt[j]]))\n",
    "            z_plt[i][j] = np.dot(theta,myfeaturesij.T)\n",
    "    z_plt = z_plt.transpose()\n",
    "\n",
    "    plt.plot(positive.iloc[:,0], positive.iloc[:,1], 'k+', label='Accepted')\n",
    "    plt.plot(negative.iloc[:,0], negative.iloc[:,1], 'yo', label='Not Accepted')\n",
    "    plt.xlabel('Test 1 score')\n",
    "    plt.ylabel('Test 2 score')\n",
    "    plt.legend()\n",
    "    u, v = np.meshgrid( x_plt, y_plt )\n",
    "    mycontour = plt.contour( u, v, z_plt, [0])\n",
    "    plt.title(\"Decision Boundary- lambda=%.2f\" %mylambda)"
   ]
  },
  {
   "cell_type": "code",
   "execution_count": 37,
   "metadata": {},
   "outputs": [
    {
     "data": {
      "image/png": "[encoded data removed]",
      "text/plain": [
       "<Figure size 720x432 with 1 Axes>"
      ]
     },
     "metadata": {
      "needs_background": "light"
     },
     "output_type": "display_data"
    }
   ],
   "source": [
    "x1_min = data2['x_11'].min()\n",
    "x1_max = data2['x_11'].max()\n",
    "x2_min = data2['x_21'].min()\n",
    "x2_max = data2['x_21'].max()\n",
    "x_plt = np.linspace(x1_min,x1_max,50)\n",
    "y_plt = np.linspace(x2_min,x2_max,50)\n",
    "\n",
    "plt.figure(figsize=(10,6))\n",
    "darw_data_and_boundary(x_plt, y_plt, theta2_new, mylambda)"
   ]
  },
  {
   "cell_type": "markdown",
   "metadata": {},
   "source": [
    "### 修改lambda值，观察不同情况下的决策边界"
   ]
  },
  {
   "cell_type": "code",
   "execution_count": 38,
   "metadata": {},
   "outputs": [
    {
     "data": {
      "image/png": "[encoded data removed]",
      "text/plain": [
       "<Figure size 1152x720 with 4 Axes>"
      ]
     },
     "metadata": {
      "needs_background": "light"
     },
     "output_type": "display_data"
    }
   ],
   "source": [
    "plt.figure(figsize=(16,10))\n",
    "plt.subplot(221)\n",
    "mylambda1 = 0.\n",
    "theta2_new1, mincost1 = optimizeRegularizedTheta(theta_2,X_2,y_2,mylambda1)\n",
    "darw_data_and_boundary(x_plt, y_plt, theta2_new1,mylambda1)\n",
    "\n",
    "plt.subplot(222)\n",
    "mylambda2 = 1.\n",
    "theta2_new2, mincost2 = optimizeRegularizedTheta(theta_2,X_2,y_2,mylambda2)\n",
    "darw_data_and_boundary(x_plt, y_plt, theta2_new2,mylambda2)\n",
    "\n",
    "plt.subplot(223)\n",
    "mylambda3 = 10.\n",
    "theta2_new3, mincost3 = optimizeRegularizedTheta(theta_2,X_2,y_2,mylambda3)\n",
    "darw_data_and_boundary(x_plt, y_plt, theta2_new3,mylambda3)\n",
    "\n",
    "\n",
    "plt.subplot(224)\n",
    "mylambda4 = 100.\n",
    "theta2_new4, mincost4 = optimizeRegularizedTheta(theta_2,X_2,y_2,mylambda4)\n",
    "darw_data_and_boundary(x_plt, y_plt, theta2_new4,mylambda4)"
   ]
  },
  {
   "cell_type": "markdown",
   "metadata": {},
   "source": [
    "## 使用sklearn工具包"
   ]
  },
  {
   "cell_type": "code",
   "execution_count": 39,
   "metadata": {},
   "outputs": [
    {
     "data": {
      "text/plain": [
       "0.8305084745762712"
      ]
     },
     "execution_count": 39,
     "metadata": {},
     "output_type": "execute_result"
    }
   ],
   "source": [
    "from sklearn import linear_model#调用sklearn的线性回归包\n",
    "model = linear_model.LogisticRegression(penalty='l2', C=1.0)\n",
    "yy2 = np.array(y_2)\n",
    "model.fit(X_2, yy2.ravel())\n",
    "\n",
    "model.score(X_2, yy2) # 模型准确率"
   ]
  },
  {
   "cell_type": "code",
   "execution_count": null,
   "metadata": {},
   "outputs": [],
   "source": []
  }
 ],
 "metadata": {
  "kernelspec": {
   "display_name": "Python 3",
   "language": "python",
   "name": "python3"
  },
  "language_info": {
   "codemirror_mode": {
    "name": "ipython",
    "version": 3
   },
   "file_extension": ".py",
   "mimetype": "text/x-python",
   "name": "python",
   "nbconvert_exporter": "python",
   "pygments_lexer": "ipython3",
   "version": "3.8.3"
  }
 },
 "nbformat": 4,
 "nbformat_minor": 4
}
